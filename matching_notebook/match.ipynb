{
 "cells": [
  {
   "cell_type": "code",
   "execution_count": 37,
   "metadata": {},
   "outputs": [],
   "source": [
    "from nltk import word_tokenize\n",
    "import re\n",
    "from transformers import AutoModel, AutoTokenizer\n",
    "from transformers import CamembertModel, CamembertTokenizer\n",
    "from transformers import AutoModelForSequenceClassification, CamembertForMaskedLM, AutoTokenizer, AutoConfig\n",
    "import torch\n",
    "import torch.nn.functional as F\n",
    "import numpy as np"
   ]
  },
  {
   "cell_type": "markdown",
   "metadata": {},
   "source": [
    "### Méthode 1 : match par embedding des ngrams\n",
    "\n",
    "L'idée c'est de découper le corps de texte du CV en plusieurs morceaux longs chacun de n mots avec n a definir. Ces sous-sequences sont vectorisées puis comparées a la vectorisation du bout de texte à matcher\n",
    "\n",
    "Ici, le modele utilisé pour faire de l'embedding est un transformateur de la langue francaise, camemBERT, disponible via le lien https://huggingface.co/camembert-base\n"
   ]
  },
  {
   "cell_type": "code",
   "execution_count": 46,
   "metadata": {},
   "outputs": [
    {
     "data": {
      "text/plain": [
       "[['ans d études pour obtenir un master ou',\n",
       "  'd études pour obtenir un master ou un',\n",
       "  'études pour obtenir un master ou un master',\n",
       "  'pour obtenir un master ou un master of',\n",
       "  'obtenir un master ou un master of science',\n",
       "  'un master ou un master of science msc',\n",
       "  'master ou un master of science msc spécialisés',\n",
       "  'ou un master of science msc spécialisés en',\n",
       "  'un master of science msc spécialisés en mathématiques',\n",
       "  'master of science msc spécialisés en mathématiques appliquées',\n",
       "  'of science msc spécialisés en mathématiques appliquées informatique',\n",
       "  'science msc spécialisés en mathématiques appliquées informatique décisionnelle',\n",
       "  'msc spécialisés en mathématiques appliquées informatique décisionnelle data',\n",
       "  'spécialisés en mathématiques appliquées informatique décisionnelle data science',\n",
       "  'en mathématiques appliquées informatique décisionnelle data science statistiques',\n",
       "  'mathématiques appliquées informatique décisionnelle data science statistiques etc',\n",
       "  'appliquées informatique décisionnelle data science statistiques etc ou',\n",
       "  'informatique décisionnelle data science statistiques etc ou un',\n",
       "  'décisionnelle data science statistiques etc ou un diplôme',\n",
       "  'data science statistiques etc ou un diplôme d',\n",
       "  'science statistiques etc ou un diplôme d ingénieur',\n",
       "  'statistiques etc ou un diplôme d ingénieur avec',\n",
       "  'etc ou un diplôme d ingénieur avec double',\n",
       "  'ou un diplôme d ingénieur avec double compétence',\n",
       "  'un diplôme d ingénieur avec double compétence en',\n",
       "  'diplôme d ingénieur avec double compétence en mathématiques',\n",
       "  'd ingénieur avec double compétence en mathématiques et',\n",
       "  'ingénieur avec double compétence en mathématiques et informatique',\n",
       "  'avec double compétence en mathématiques et informatique ou',\n",
       "  'double compétence en mathématiques et informatique ou spécialisation',\n",
       "  'compétence en mathématiques et informatique ou spécialisation big',\n",
       "  'en mathématiques et informatique ou spécialisation big data'],\n",
       " ['ans d études pour obtenir un master ou un',\n",
       "  'd études pour obtenir un master ou un master',\n",
       "  'études pour obtenir un master ou un master of',\n",
       "  'pour obtenir un master ou un master of science',\n",
       "  'obtenir un master ou un master of science msc',\n",
       "  'un master ou un master of science msc spécialisés',\n",
       "  'master ou un master of science msc spécialisés en',\n",
       "  'ou un master of science msc spécialisés en mathématiques',\n",
       "  'un master of science msc spécialisés en mathématiques appliquées',\n",
       "  'master of science msc spécialisés en mathématiques appliquées informatique',\n",
       "  'of science msc spécialisés en mathématiques appliquées informatique décisionnelle',\n",
       "  'science msc spécialisés en mathématiques appliquées informatique décisionnelle data',\n",
       "  'msc spécialisés en mathématiques appliquées informatique décisionnelle data science',\n",
       "  'spécialisés en mathématiques appliquées informatique décisionnelle data science statistiques',\n",
       "  'en mathématiques appliquées informatique décisionnelle data science statistiques etc',\n",
       "  'mathématiques appliquées informatique décisionnelle data science statistiques etc ou',\n",
       "  'appliquées informatique décisionnelle data science statistiques etc ou un',\n",
       "  'informatique décisionnelle data science statistiques etc ou un diplôme',\n",
       "  'décisionnelle data science statistiques etc ou un diplôme d',\n",
       "  'data science statistiques etc ou un diplôme d ingénieur',\n",
       "  'science statistiques etc ou un diplôme d ingénieur avec',\n",
       "  'statistiques etc ou un diplôme d ingénieur avec double',\n",
       "  'etc ou un diplôme d ingénieur avec double compétence',\n",
       "  'ou un diplôme d ingénieur avec double compétence en',\n",
       "  'un diplôme d ingénieur avec double compétence en mathématiques',\n",
       "  'diplôme d ingénieur avec double compétence en mathématiques et',\n",
       "  'd ingénieur avec double compétence en mathématiques et informatique',\n",
       "  'ingénieur avec double compétence en mathématiques et informatique ou',\n",
       "  'avec double compétence en mathématiques et informatique ou spécialisation',\n",
       "  'double compétence en mathématiques et informatique ou spécialisation big',\n",
       "  'compétence en mathématiques et informatique ou spécialisation big data'],\n",
       " ['ans d études pour obtenir un master ou un master',\n",
       "  'd études pour obtenir un master ou un master of',\n",
       "  'études pour obtenir un master ou un master of science',\n",
       "  'pour obtenir un master ou un master of science msc',\n",
       "  'obtenir un master ou un master of science msc spécialisés',\n",
       "  'un master ou un master of science msc spécialisés en',\n",
       "  'master ou un master of science msc spécialisés en mathématiques',\n",
       "  'ou un master of science msc spécialisés en mathématiques appliquées',\n",
       "  'un master of science msc spécialisés en mathématiques appliquées informatique',\n",
       "  'master of science msc spécialisés en mathématiques appliquées informatique décisionnelle',\n",
       "  'of science msc spécialisés en mathématiques appliquées informatique décisionnelle data',\n",
       "  'science msc spécialisés en mathématiques appliquées informatique décisionnelle data science',\n",
       "  'msc spécialisés en mathématiques appliquées informatique décisionnelle data science statistiques',\n",
       "  'spécialisés en mathématiques appliquées informatique décisionnelle data science statistiques etc',\n",
       "  'en mathématiques appliquées informatique décisionnelle data science statistiques etc ou',\n",
       "  'mathématiques appliquées informatique décisionnelle data science statistiques etc ou un',\n",
       "  'appliquées informatique décisionnelle data science statistiques etc ou un diplôme',\n",
       "  'informatique décisionnelle data science statistiques etc ou un diplôme d',\n",
       "  'décisionnelle data science statistiques etc ou un diplôme d ingénieur',\n",
       "  'data science statistiques etc ou un diplôme d ingénieur avec',\n",
       "  'science statistiques etc ou un diplôme d ingénieur avec double',\n",
       "  'statistiques etc ou un diplôme d ingénieur avec double compétence',\n",
       "  'etc ou un diplôme d ingénieur avec double compétence en',\n",
       "  'ou un diplôme d ingénieur avec double compétence en mathématiques',\n",
       "  'un diplôme d ingénieur avec double compétence en mathématiques et',\n",
       "  'diplôme d ingénieur avec double compétence en mathématiques et informatique',\n",
       "  'd ingénieur avec double compétence en mathématiques et informatique ou',\n",
       "  'ingénieur avec double compétence en mathématiques et informatique ou spécialisation',\n",
       "  'avec double compétence en mathématiques et informatique ou spécialisation big',\n",
       "  'double compétence en mathématiques et informatique ou spécialisation big data']]"
      ]
     },
     "execution_count": 46,
     "metadata": {},
     "output_type": "execute_result"
    }
   ],
   "source": [
    "#tokenization des phrases, retrait des caracteres qui ne sont pas alphabetiques latin/qui peuvent figurer dans une phrase\n",
    "def tokenize_st(st : str):\n",
    "    return [word.lower() for word in word_tokenize(re.sub(r\"[^a-zA-z\\-éèêàáàâôöîïûüœç]\", \" \", st))]\n",
    "\n",
    "#méthodes créant les ngrams\n",
    "def ngram(words : list, n : int):\n",
    "    ngrams = []\n",
    "    if len(words)<n :\n",
    "        return ngrams\n",
    "    for i in range(len(words)-n+1):\n",
    "        ngrams += [words[i:i+n]]\n",
    "    return ngrams\n",
    "\n",
    "def generate_ngram_list(st:str, beg=1, end = 5):\n",
    "    words = tokenize_st(st)\n",
    "    ngrams = []\n",
    "    for i in range(beg, end+1) :\n",
    "        igram = ngram(words, i)\n",
    "        if len(igram)>0:\n",
    "            ngrams += [igram]\n",
    "    return ngrams \n",
    "\n",
    "def ngram_to_str(ngrams:list):\n",
    "    l = []\n",
    "    it = 0\n",
    "    for rep in ngrams :\n",
    "        l+= [[]]\n",
    "        for sent in rep :\n",
    "            l[it] += [\" \".join(sent)]\n",
    "        it +=1\n",
    "    return l\n",
    "\n",
    "texte = \"5 ans d'études pour obtenir un master ou un master of science (Msc) spécialisés en mathématiques appliquées, informatique décisionnelle , data science, statistiques, etc. ou un diplôme d'ingénieur avec double compétence en mathématiques et informatique ou spécialisation big data.\"\n",
    "truc_a_trouver = [\"bac + 5 master en mathématiques\"]\n",
    "\n",
    "text_ngram = ngram_to_str(generate_ngram_list(texte, 8, 10))\n",
    "text_ngram"
   ]
  },
  {
   "cell_type": "code",
   "execution_count": 47,
   "metadata": {},
   "outputs": [],
   "source": [
    "#tokenizer\n",
    "tokenizer = AutoTokenizer.from_pretrained('camembert-base')\n",
    "#modele tranformateur camembert\n",
    "camembert = CamembertForMaskedLM.from_pretrained('camembert-base')\n",
    "\n",
    "#\n",
    "def average_embeddings(embeddings, attention_mask):\n",
    "    return (attention_mask[..., None] * embeddings).mean(1)\n",
    "\n",
    "def embbed_sentences(camembert, tokenizer, sentences) :\n",
    "    #on tokenize grace au tokenizer de camembert\n",
    "    tokenizer_output = tokenizer(sentences,padding=\"max_length\",truncation=True,return_tensors=\"pt\")\n",
    "    #on fait passer la phrase tokenizee par le modele et on recupere les poids de la derniere \n",
    "    with torch.no_grad():\n",
    "        model_output = camembert(**tokenizer_output, output_hidden_states=True)\n",
    "    token_embeddings = model_output.hidden_states[-1]\n",
    "    return average_embeddings(token_embeddings, tokenizer_output.attention_mask)\n"
   ]
  },
  {
   "cell_type": "code",
   "execution_count": 48,
   "metadata": {},
   "outputs": [],
   "source": [
    "sentence_to_be_matched = embbed_sentences(camembert, tokenizer, truc_a_trouver)\n",
    "doc_embedded = embbed_sentences(camembert, tokenizer, text_ngram[0])"
   ]
  },
  {
   "cell_type": "code",
   "execution_count": 49,
   "metadata": {},
   "outputs": [
    {
     "name": "stdout",
     "output_type": "stream",
     "text": [
      "sentence to be matched : bac + 5 master en mathématiques\n",
      "sentence matched :  un master of science msc spécialisés en mathématiques\n"
     ]
    }
   ],
   "source": [
    "def compute_vector_similarity(sentence, doc):\n",
    "    return [float(F.cosine_similarity(sentence, sent_doc)[0]) for sent_doc in doc]\n",
    "\n",
    "similar_vect = compute_vector_similarity(sentence_to_be_matched, doc_embedded)\n",
    "print(\"sentence to be matched :\", truc_a_trouver[0])\n",
    "print(\"sentence matched : \",text_ngram[0][np.argmax(similar_vect)])"
   ]
  },
  {
   "cell_type": "markdown",
   "metadata": {},
   "source": [
    "### Méthode 2 : match parfait\n",
    "\n",
    "Il s'agit tout simplement de verifier si l'intitulé exact de ce qui est recherché figure dans le CV"
   ]
  },
  {
   "cell_type": "code",
   "execution_count": 50,
   "metadata": {},
   "outputs": [
    {
     "name": "stdout",
     "output_type": "stream",
     "text": [
      "True False\n"
     ]
    }
   ],
   "source": [
    "corps = \"5 ans d'études pour obtenir un master ou un master of science (Msc) spécialisés en mathématiques appliquées, informatique décisionnelle , data science, statistiques, etc. ou un diplôme d'ingénieur avec double compétence en mathématiques et informatique ou spécialisation big data.\"\n",
    "\n",
    "truc_a_trouver = \"mathématiques appliquées\"\n",
    "\n",
    "print(truc_a_trouver in corps, \"truc sans rapport\" in corps)"
   ]
  }
 ],
 "metadata": {
  "kernelspec": {
   "display_name": "Python 3 (ipykernel)",
   "language": "python",
   "name": "python3"
  },
  "language_info": {
   "codemirror_mode": {
    "name": "ipython",
    "version": 3
   },
   "file_extension": ".py",
   "mimetype": "text/x-python",
   "name": "python",
   "nbconvert_exporter": "python",
   "pygments_lexer": "ipython3",
   "version": "3.9.13"
  },
  "vscode": {
   "interpreter": {
    "hash": "aee8b7b246df8f9039afb4144a1f6fd8d2ca17a180786b69acc140d282b71a49"
   }
  }
 },
 "nbformat": 4,
 "nbformat_minor": 2
}
